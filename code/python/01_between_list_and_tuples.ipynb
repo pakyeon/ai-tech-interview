{
 "cells": [
  {
   "cell_type": "code",
   "execution_count": 1,
   "metadata": {},
   "outputs": [
    {
     "name": "stdout",
     "output_type": "stream",
     "text": [
      "원래 리스트: [1, 2, 3]\n",
      "변경 후 리스트: [100, 2, 3]\n"
     ]
    }
   ],
   "source": [
    "# 리스트와 튜플의 차이점\n",
    "\n",
    "# 1. 리스트는 변경 가능 (mutable)\n",
    "my_list = [1, 2, 3]\n",
    "print(\"원래 리스트:\", my_list)\n",
    "my_list[0] = 100  # 값 변경\n",
    "print(\"변경 후 리스트:\", my_list)"
   ]
  },
  {
   "cell_type": "code",
   "execution_count": 2,
   "metadata": {},
   "outputs": [
    {
     "name": "stdout",
     "output_type": "stream",
     "text": [
      "튜플: (1, 2, 3)\n",
      "튜플 변경 불가 오류: 'tuple' object does not support item assignment\n"
     ]
    }
   ],
   "source": [
    "# 2. 튜플은 변경 불가능 (immutable)\n",
    "my_tuple = (1, 2, 3)\n",
    "print(\"튜플:\", my_tuple)\n",
    "\n",
    "# 튜플 요소 변경 시도 (오류 발생)\n",
    "try:\n",
    "    my_tuple[0] = 100  # TypeError 발생\n",
    "except TypeError as e:\n",
    "    print(\"튜플 변경 불가 오류:\", e)"
   ]
  },
  {
   "cell_type": "code",
   "execution_count": 3,
   "metadata": {},
   "outputs": [
    {
     "name": "stdout",
     "output_type": "stream",
     "text": [
      "리스트 생성 시간: 0.03016초\n",
      "튜플 생성 시간: 0.00468초\n"
     ]
    }
   ],
   "source": [
    "# 3. 리스트와 튜플의 속도 차이 (튜플이 더 빠름)\n",
    "import timeit\n",
    "\n",
    "list_test = timeit.timeit(stmt=\"[1, 2, 3, 4, 5]\", number=1000000)\n",
    "tuple_test = timeit.timeit(stmt=\"(1, 2, 3, 4, 5)\", number=1000000)\n",
    "\n",
    "print(f\"리스트 생성 시간: {list_test:.5f}초\")\n",
    "print(f\"튜플 생성 시간: {tuple_test:.5f}초\")"
   ]
  },
  {
   "cell_type": "code",
   "execution_count": 4,
   "metadata": {},
   "outputs": [
    {
     "name": "stdout",
     "output_type": "stream",
     "text": [
      "혼합형 리스트: [1, 'hello', 3.14]\n",
      "혼합형 튜플: (1, 'hello', 3.14)\n"
     ]
    }
   ],
   "source": [
    "# 4. 리스트와 튜플의 자료형 혼합 가능\n",
    "mixed_list = [1, \"hello\", 3.14]\n",
    "mixed_tuple = (1, \"hello\", 3.14)\n",
    "\n",
    "print(\"혼합형 리스트:\", mixed_list)\n",
    "print(\"혼합형 튜플:\", mixed_tuple)"
   ]
  },
  {
   "cell_type": "code",
   "execution_count": 5,
   "metadata": {},
   "outputs": [
    {
     "name": "stdout",
     "output_type": "stream",
     "text": [
      "리스트 선언: [10, 20, 30]\n",
      "튜플 선언: (10, 20, 30)\n"
     ]
    }
   ],
   "source": [
    "# 5. 리스트와 튜플의 선언 방법\n",
    "list_example = [10, 20, 30]  # 대괄호 사용\n",
    "tuple_example = (10, 20, 30)  # 소괄호 사용\n",
    "\n",
    "print(\"리스트 선언:\", list_example)\n",
    "print(\"튜플 선언:\", tuple_example)"
   ]
  }
 ],
 "metadata": {
  "kernelspec": {
   "display_name": "test",
   "language": "python",
   "name": "python3"
  },
  "language_info": {
   "codemirror_mode": {
    "name": "ipython",
    "version": 3
   },
   "file_extension": ".py",
   "mimetype": "text/x-python",
   "name": "python",
   "nbconvert_exporter": "python",
   "pygments_lexer": "ipython3",
   "version": "3.11.8"
  }
 },
 "nbformat": 4,
 "nbformat_minor": 2
}
