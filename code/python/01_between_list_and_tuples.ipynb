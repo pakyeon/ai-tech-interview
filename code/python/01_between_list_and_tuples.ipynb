{
 "cells": [
  {
   "cell_type": "markdown",
   "metadata": {},
   "source": [
    "## 리스트와 튜플의 차이점"
   ]
  },
  {
   "cell_type": "markdown",
   "metadata": {},
   "source": [
    "### 1. 리스트는 변경 가능 (mutable)"
   ]
  },
  {
   "cell_type": "code",
   "execution_count": 1,
   "metadata": {},
   "outputs": [
    {
     "name": "stdout",
     "output_type": "stream",
     "text": [
      "원래 리스트: [1, 2, 3]\n",
      "변경 후 리스트: [100, 2, 3]\n"
     ]
    }
   ],
   "source": [
    "my_list = [1, 2, 3]\n",
    "print(\"원래 리스트:\", my_list)\n",
    "my_list[0] = 100  # 값 변경\n",
    "print(\"변경 후 리스트:\", my_list)"
   ]
  },
  {
   "cell_type": "markdown",
   "metadata": {},
   "source": [
    "### 2. 튜플은 변경 불가능 (immutable)"
   ]
  },
  {
   "cell_type": "code",
   "execution_count": 3,
   "metadata": {},
   "outputs": [
    {
     "name": "stdout",
     "output_type": "stream",
     "text": [
      "튜플: (1, 2, 3)\n",
      "튜플 변경 불가 오류: 'tuple' object does not support item assignment\n"
     ]
    }
   ],
   "source": [
    "my_tuple = (1, 2, 3)\n",
    "print(\"튜플:\", my_tuple)\n",
    "\n",
    "# 튜플 요소 변경 시도 (오류 발생)\n",
    "try:\n",
    "    my_tuple[0] = 100  # TypeError 발생\n",
    "except TypeError as e:\n",
    "    print(\"튜플 변경 불가 오류:\", e)"
   ]
  },
  {
   "cell_type": "markdown",
   "metadata": {},
   "source": [
    "### 3. 리스트와 튜플의 속도 차이 (튜플이 더 빠름)"
   ]
  },
  {
   "cell_type": "code",
   "execution_count": 4,
   "metadata": {},
   "outputs": [
    {
     "name": "stdout",
     "output_type": "stream",
     "text": [
      "리스트 생성 시간: 0.0000047900초\n",
      "튜플 생성 시간: 0.0000010140초\n"
     ]
    }
   ],
   "source": [
    "import timeit\n",
    "\n",
    "# stmt: 실행측정할 코드 및 함수, setup: stmt를 실행하기 위해 사전에 필요한 코드나 함수를 선언, number: 선언한 stmt의 수행 횟수. 선언하지 않으면 기본적으로 1000000번이 실행\n",
    "list_test = timeit.timeit(stmt=\"[1, 2, 3, 4, 5]\", number=100)\n",
    "tuple_test = timeit.timeit(stmt=\"(1, 2, 3, 4, 5)\", number=100)\n",
    "\n",
    "print(f\"리스트 생성 시간: {list_test:.10f}초\")\n",
    "print(f\"튜플 생성 시간: {tuple_test:.10f}초\")"
   ]
  },
  {
   "cell_type": "markdown",
   "metadata": {},
   "source": [
    "### 4. 리스트와 튜플의 자료형 혼합 가능"
   ]
  },
  {
   "cell_type": "code",
   "execution_count": 5,
   "metadata": {},
   "outputs": [
    {
     "name": "stdout",
     "output_type": "stream",
     "text": [
      "혼합형 리스트: [1, 'hello', 3.14]\n",
      "혼합형 튜플: (1, 'hello', 3.14)\n"
     ]
    }
   ],
   "source": [
    "mixed_list = [1, \"hello\", 3.14]\n",
    "mixed_tuple = (1, \"hello\", 3.14)\n",
    "\n",
    "print(\"혼합형 리스트:\", mixed_list)\n",
    "print(\"혼합형 튜플:\", mixed_tuple)"
   ]
  },
  {
   "cell_type": "markdown",
   "metadata": {},
   "source": [
    "### 5. 리스트와 튜플의 선언 방법"
   ]
  },
  {
   "cell_type": "code",
   "execution_count": 6,
   "metadata": {},
   "outputs": [
    {
     "name": "stdout",
     "output_type": "stream",
     "text": [
      "리스트 선언: [10, 20, 30]\n",
      "튜플 선언: (10, 20, 30)\n"
     ]
    }
   ],
   "source": [
    "list_example = [10, 20, 30]  # 대괄호 사용\n",
    "tuple_example = (10, 20, 30)  # 소괄호 사용\n",
    "\n",
    "print(\"리스트 선언:\", list_example)\n",
    "print(\"튜플 선언:\", tuple_example)"
   ]
  }
 ],
 "metadata": {
  "kernelspec": {
   "display_name": "test",
   "language": "python",
   "name": "python3"
  },
  "language_info": {
   "codemirror_mode": {
    "name": "ipython",
    "version": 3
   },
   "file_extension": ".py",
   "mimetype": "text/x-python",
   "name": "python",
   "nbconvert_exporter": "python",
   "pygments_lexer": "ipython3",
   "version": "3.11.8"
  }
 },
 "nbformat": 4,
 "nbformat_minor": 2
}
