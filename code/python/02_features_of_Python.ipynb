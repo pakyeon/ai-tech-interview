{
 "cells": [
  {
   "cell_type": "markdown",
   "metadata": {},
   "source": [
    "## Python의 특징"
   ]
  },
  {
   "cell_type": "markdown",
   "metadata": {},
   "source": [
    "### 1. 인터프리터 언어 (바로 실행 가능)"
   ]
  },
  {
   "cell_type": "code",
   "execution_count": 1,
   "metadata": {},
   "outputs": [
    {
     "name": "stdout",
     "output_type": "stream",
     "text": [
      "Python is an interpreted language.\n"
     ]
    }
   ],
   "source": [
    "print(\"Python is an interpreted language.\")  # 즉시 실행"
   ]
  },
  {
   "cell_type": "markdown",
   "metadata": {},
   "source": [
    "### 2. 동적 타이핑 (자료형 선언 불필요)"
   ]
  },
  {
   "cell_type": "code",
   "execution_count": 2,
   "metadata": {},
   "outputs": [
    {
     "name": "stdout",
     "output_type": "stream",
     "text": [
      "10 (type: <class 'int'>)\n",
      "Hello (type: <class 'str'>)\n"
     ]
    }
   ],
   "source": [
    "dynamic_var = 10  # 정수\n",
    "print(f\"{dynamic_var} (type: {type(dynamic_var)})\")\n",
    "\n",
    "dynamic_var = \"Hello\"  # 문자열로 변경\n",
    "print(f\"{dynamic_var} (type: {type(dynamic_var)})\")"
   ]
  },
  {
   "cell_type": "markdown",
   "metadata": {},
   "source": [
    "### 3. 객체 지향 프로그래밍 (OOP)\n"
   ]
  },
  {
   "cell_type": "code",
   "execution_count": 3,
   "metadata": {},
   "outputs": [
    {
     "name": "stdout",
     "output_type": "stream",
     "text": [
      "Buddy barks.\n"
     ]
    }
   ],
   "source": [
    "class Animal:\n",
    "    def __init__(self, name):\n",
    "        self.name = name\n",
    "\n",
    "    def speak(self):\n",
    "        return f\"{self.name} makes a sound.\"\n",
    "\n",
    "\n",
    "class Dog(Animal):\n",
    "    def speak(self):\n",
    "        return f\"{self.name} barks.\"\n",
    "\n",
    "\n",
    "dog = Dog(\"Buddy\")\n",
    "print(dog.speak())  # 객체 지향 예제"
   ]
  },
  {
   "cell_type": "markdown",
   "metadata": {},
   "source": [
    "### 4. 일급 객체 (First-class citizen)"
   ]
  },
  {
   "cell_type": "markdown",
   "metadata": {},
   "source": [
    "#### 함수를 변수에 할당할 수 있음\n"
   ]
  },
  {
   "cell_type": "code",
   "execution_count": 4,
   "metadata": {},
   "outputs": [
    {
     "name": "stdout",
     "output_type": "stream",
     "text": [
      "Hello, Alice!\n"
     ]
    }
   ],
   "source": [
    "def greet(name):\n",
    "    return f\"Hello, {name}!\"\n",
    "\n",
    "\n",
    "greeting = greet  # 함수 할당\n",
    "print(greeting(\"Alice\"))  # Hello, Alice!"
   ]
  },
  {
   "cell_type": "markdown",
   "metadata": {},
   "source": [
    "#### 함수를 다른 함수의 인자로 전달할 수 있음\n"
   ]
  },
  {
   "cell_type": "code",
   "execution_count": 5,
   "metadata": {},
   "outputs": [
    {
     "name": "stdout",
     "output_type": "stream",
     "text": [
      "Hello, Bob!\n"
     ]
    }
   ],
   "source": [
    "def call_function(func, arg):\n",
    "    return func(arg)\n",
    "\n",
    "\n",
    "result = call_function(greet, \"Bob\")\n",
    "print(result)  # Hello, Bob!"
   ]
  },
  {
   "cell_type": "markdown",
   "metadata": {},
   "source": [
    "#### 함수를 다른 함수에서 반환할 수 있음\n"
   ]
  },
  {
   "cell_type": "code",
   "execution_count": 6,
   "metadata": {},
   "outputs": [
    {
     "name": "stdout",
     "output_type": "stream",
     "text": [
      "This is an inner function.\n"
     ]
    }
   ],
   "source": [
    "def outer_function():\n",
    "    def inner_function():\n",
    "        return \"This is an inner function.\"\n",
    "\n",
    "    return inner_function  # 함수 반환\n",
    "\n",
    "\n",
    "inner_func = outer_function()\n",
    "print(inner_func())  # This is an inner function."
   ]
  },
  {
   "cell_type": "markdown",
   "metadata": {},
   "source": [
    "#### 리스트(데이터 구조)에 함수를 담을 수 있음\n"
   ]
  },
  {
   "cell_type": "code",
   "execution_count": 7,
   "metadata": {},
   "outputs": [
    {
     "name": "stdout",
     "output_type": "stream",
     "text": [
      "Hello, Charlie!\n",
      "PYTHON\n",
      "python\n"
     ]
    }
   ],
   "source": [
    "func_list = [greet, str.upper, str.lower]\n",
    "\n",
    "print(func_list[0](\"Charlie\"))  # Hello, Charlie!\n",
    "print(func_list[1](\"python\"))  # PYTHON\n",
    "print(func_list[2](\"PYTHON\"))  # python"
   ]
  },
  {
   "cell_type": "markdown",
   "metadata": {},
   "source": [
    "#### 람다 표현식 (익명 함수)도 일급 객체로 취급됨\n"
   ]
  },
  {
   "cell_type": "code",
   "execution_count": 8,
   "metadata": {},
   "outputs": [
    {
     "name": "stdout",
     "output_type": "stream",
     "text": [
      "25\n"
     ]
    }
   ],
   "source": [
    "square = lambda x: x * x\n",
    "print(square(5))  # 25"
   ]
  },
  {
   "cell_type": "markdown",
   "metadata": {},
   "source": [
    "#### 고차 함수 사용 (함수를 반환하는 함수)\n"
   ]
  },
  {
   "cell_type": "code",
   "execution_count": 9,
   "metadata": {},
   "outputs": [
    {
     "name": "stdout",
     "output_type": "stream",
     "text": [
      "20\n"
     ]
    }
   ],
   "source": [
    "def multiply_by(factor):\n",
    "    def multiply(num):\n",
    "        return num * factor\n",
    "\n",
    "    return multiply\n",
    "\n",
    "\n",
    "double = multiply_by(2)  # factor=2인 함수 생성\n",
    "print(double(10))  # 20"
   ]
  },
  {
   "cell_type": "markdown",
   "metadata": {},
   "source": [
    "### 5. 들여쓰기 기반 문법 (자동 적용)\n"
   ]
  },
  {
   "cell_type": "code",
   "execution_count": 10,
   "metadata": {},
   "outputs": [
    {
     "name": "stdout",
     "output_type": "stream",
     "text": [
      "Python uses indentation instead of braces.\n"
     ]
    }
   ],
   "source": [
    "def indentation_example():\n",
    "    x = 5\n",
    "    if x > 0:\n",
    "        print(\"Python uses indentation instead of braces.\")\n",
    "\n",
    "\n",
    "indentation_example()"
   ]
  },
  {
   "cell_type": "markdown",
   "metadata": {},
   "source": [
    "### 6. 자동 메모리 관리 (GC)\n"
   ]
  },
  {
   "cell_type": "markdown",
   "metadata": {},
   "source": [
    "#### 참조 카운트 확인하기\n"
   ]
  },
  {
   "cell_type": "code",
   "execution_count": 22,
   "metadata": {},
   "outputs": [
    {
     "name": "stdout",
     "output_type": "stream",
     "text": [
      "Reference count for 'a': 3\n"
     ]
    }
   ],
   "source": [
    "import sys\n",
    "\n",
    "a = [1, 2, 3]\n",
    "b = a  # 같은 객체를 참조\n",
    "print(\n",
    "    f\"Reference count for 'a': {sys.getrefcount(a)}\"\n",
    ")  # 3 (a, b, getrefcount 내부 참조)"
   ]
  },
  {
   "cell_type": "code",
   "execution_count": 23,
   "metadata": {},
   "outputs": [
    {
     "name": "stdout",
     "output_type": "stream",
     "text": [
      "Reference count after deleting 'b': 2\n"
     ]
    }
   ],
   "source": [
    "# b가 가리키던 a를 삭제하면 참조 카운트 감소\n",
    "del b\n",
    "print(\n",
    "    f\"Reference count after deleting 'b': {sys.getrefcount(a)}\"\n",
    ")  # 2 (a, getrefcount 내부 참조)"
   ]
  },
  {
   "cell_type": "markdown",
   "metadata": {},
   "source": [
    "#### 메모리 확인 및 해제\n"
   ]
  },
  {
   "cell_type": "code",
   "execution_count": 25,
   "metadata": {},
   "outputs": [
    {
     "name": "stdout",
     "output_type": "stream",
     "text": [
      "Instance deleted\n",
      "End of script\n"
     ]
    }
   ],
   "source": [
    "import gc\n",
    "\n",
    "\n",
    "class Test:\n",
    "    def __del__(self):\n",
    "        print(\"Instance deleted\")\n",
    "\n",
    "\n",
    "obj = Test()\n",
    "del obj  # 객체 삭제 시 __del__ 호출 확인\n",
    "gc.collect()  # 수동으로 가비지 컬렉션 실행\n",
    "\n",
    "print(\"End of script\")"
   ]
  },
  {
   "cell_type": "markdown",
   "metadata": {},
   "source": [
    "### 7. 확장성과 이식성 (모듈 활용)\n"
   ]
  },
  {
   "cell_type": "code",
   "execution_count": 26,
   "metadata": {},
   "outputs": [
    {
     "name": "stdout",
     "output_type": "stream",
     "text": [
      "Math module example: sqrt(16) = 4.0\n"
     ]
    }
   ],
   "source": [
    "import math\n",
    "\n",
    "print(f\"Math module example: sqrt(16) = {math.sqrt(16)}\")"
   ]
  },
  {
   "cell_type": "markdown",
   "metadata": {},
   "source": [
    "### 8. 실행 속도 (인터프리터 기반)\n"
   ]
  },
  {
   "cell_type": "code",
   "execution_count": 20,
   "metadata": {},
   "outputs": [
    {
     "name": "stdout",
     "output_type": "stream",
     "text": [
      "Execution time: 0.02126 seconds\n"
     ]
    }
   ],
   "source": [
    "import time\n",
    "\n",
    "start_time = time.time()\n",
    "\n",
    "for i in range(1000000):\n",
    "    pass\n",
    "\n",
    "print(f\"Execution time: {time.time() - start_time:.5f} seconds\")"
   ]
  }
 ],
 "metadata": {
  "kernelspec": {
   "display_name": "test",
   "language": "python",
   "name": "python3"
  },
  "language_info": {
   "codemirror_mode": {
    "name": "ipython",
    "version": 3
   },
   "file_extension": ".py",
   "mimetype": "text/x-python",
   "name": "python",
   "nbconvert_exporter": "python",
   "pygments_lexer": "ipython3",
   "version": "3.11.8"
  }
 },
 "nbformat": 4,
 "nbformat_minor": 2
}
